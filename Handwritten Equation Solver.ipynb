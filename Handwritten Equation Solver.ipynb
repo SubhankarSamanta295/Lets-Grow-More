{
 "cells": [
  {
   "cell_type": "code",
   "execution_count": 1,
   "metadata": {},
   "outputs": [],
   "source": [
    "#Importing the libraries\n",
    "import numpy as np\n",
    "import pandas as pd\n",
    "import matplotlib.pyplot as plt\n",
    "import seaborn as sns\n",
    "import tensorflow as tf\n",
    "import keras\n",
    "from tensorflow.keras.models import Model\n",
    "from tensorflow.keras import datasets, layers, models\n",
    "from keras.applications import inception_resnet_v2\n",
    "from keras.applications import xception\n",
    "from keras.preprocessing.image import ImageDataGenerator,load_img\n",
    "from tensorflow.keras.layers import InputLayer,Dense,Flatten,GlobalAveragePooling2D,ZeroPadding2D\n",
    "from tensorflow.keras.layers import BatchNormalization,Dropout,Activation,Conv2D,MaxPooling2D\n",
    "import os\n",
    "import cv2\n",
    "from keras.applications import inception_resnet_v2\n",
    "from tensorflow.keras.models import Sequential, Model\n",
    "import random"
   ]
  },
  {
   "cell_type": "code",
   "execution_count": 2,
   "metadata": {},
   "outputs": [],
   "source": [
    "img_size = 32"
   ]
  },
  {
   "cell_type": "code",
   "execution_count": 3,
   "metadata": {},
   "outputs": [
    {
     "name": "stdout",
     "output_type": "stream",
     "text": [
      "Found 300746 images belonging to 82 classes.\n"
     ]
    }
   ],
   "source": [
    "train_datagen = ImageDataGenerator(rescale = 1.0/255.0,\n",
    "                                   shear_range = 0.4,\n",
    "                                   zoom_range = 0.4,\n",
    "                                   horizontal_flip = True)\n",
    "training_set = train_datagen.flow_from_directory('extracted_images_final/train',\n",
    "                                                 target_size = (img_size, img_size),\n",
    "                                                 color_mode='grayscale',\n",
    "                                                 class_mode = 'categorical')"
   ]
  },
  {
   "cell_type": "code",
   "execution_count": 4,
   "metadata": {},
   "outputs": [
    {
     "name": "stdout",
     "output_type": "stream",
     "text": [
      "Found 75161 images belonging to 82 classes.\n"
     ]
    }
   ],
   "source": [
    "validation_datagen = ImageDataGenerator(rescale = 1.0/255.0,\n",
    "                                   shear_range = 0.4,\n",
    "                                   zoom_range = 0.4,\n",
    "                                   horizontal_flip = True)\n",
    "validation_set = train_datagen.flow_from_directory('extracted_images_final/val',\n",
    "                                                 target_size = (img_size, img_size),\n",
    "                                                 color_mode='grayscale',\n",
    "                                                 class_mode = 'categorical')"
   ]
  },
  {
   "cell_type": "code",
   "execution_count": 5,
   "metadata": {},
   "outputs": [
    {
     "name": "stdout",
     "output_type": "stream",
     "text": [
      "Found 75261 images belonging to 82 classes.\n"
     ]
    }
   ],
   "source": [
    "test_datagen = ImageDataGenerator(rescale = 1./255.0)\n",
    "                                 \n",
    "test_set = test_datagen.flow_from_directory('extracted_images_final/test',\n",
    "                                            target_size = (img_size, img_size),\n",
    "                                            color_mode='grayscale',\n",
    "                                            class_mode = 'categorical')"
   ]
  },
  {
   "cell_type": "code",
   "execution_count": 6,
   "metadata": {},
   "outputs": [],
   "source": [
    "model = models.Sequential([\n",
    "    layers.Conv2D(64, (3,3), activation = 'relu', padding='same', input_shape = (img_size,img_size,1)),\n",
    "    layers.BatchNormalization(momentum=0.95),\n",
    "    layers.MaxPool2D((2,2), padding='same'),\n",
    "    \n",
    "    layers.Conv2D(128, (3, 3), activation='relu', padding='same', kernel_initializer = \"HeNormal\"),\n",
    "    layers.BatchNormalization(momentum=0.95),\n",
    "    layers.MaxPool2D((2,2), padding='same'),\n",
    "                    \n",
    "    layers.Conv2D(256, (3, 3), activation='relu', padding='same'),\n",
    "    layers.BatchNormalization(momentum=0.95),\n",
    "    layers.MaxPool2D((2,2), padding='same'),\n",
    "          \n",
    "    layers.GlobalAveragePooling2D(),\n",
    "    \n",
    "    layers.Dense(512, activation='relu'),\n",
    "    layers.Dropout(0.5),\n",
    "    layers.Dense(82, activation='softmax')\n",
    "])"
   ]
  },
  {
   "cell_type": "code",
   "execution_count": 7,
   "metadata": {},
   "outputs": [
    {
     "name": "stdout",
     "output_type": "stream",
     "text": [
      "Model: \"sequential\"\n",
      "_________________________________________________________________\n",
      "Layer (type)                 Output Shape              Param #   \n",
      "=================================================================\n",
      "conv2d (Conv2D)              (None, 32, 32, 64)        640       \n",
      "_________________________________________________________________\n",
      "batch_normalization (BatchNo (None, 32, 32, 64)        256       \n",
      "_________________________________________________________________\n",
      "max_pooling2d (MaxPooling2D) (None, 16, 16, 64)        0         \n",
      "_________________________________________________________________\n",
      "conv2d_1 (Conv2D)            (None, 16, 16, 128)       73856     \n",
      "_________________________________________________________________\n",
      "batch_normalization_1 (Batch (None, 16, 16, 128)       512       \n",
      "_________________________________________________________________\n",
      "max_pooling2d_1 (MaxPooling2 (None, 8, 8, 128)         0         \n",
      "_________________________________________________________________\n",
      "conv2d_2 (Conv2D)            (None, 8, 8, 256)         295168    \n",
      "_________________________________________________________________\n",
      "batch_normalization_2 (Batch (None, 8, 8, 256)         1024      \n",
      "_________________________________________________________________\n",
      "max_pooling2d_2 (MaxPooling2 (None, 4, 4, 256)         0         \n",
      "_________________________________________________________________\n",
      "global_average_pooling2d (Gl (None, 256)               0         \n",
      "_________________________________________________________________\n",
      "dense (Dense)                (None, 512)               131584    \n",
      "_________________________________________________________________\n",
      "dropout (Dropout)            (None, 512)               0         \n",
      "_________________________________________________________________\n",
      "dense_1 (Dense)              (None, 82)                42066     \n",
      "=================================================================\n",
      "Total params: 545,106\n",
      "Trainable params: 544,210\n",
      "Non-trainable params: 896\n",
      "_________________________________________________________________\n"
     ]
    }
   ],
   "source": [
    "model.summary()"
   ]
  },
  {
   "cell_type": "code",
   "execution_count": 11,
   "metadata": {},
   "outputs": [],
   "source": [
    "model.compile(optimizer = tf.keras.optimizers.Adam(learning_rate = 0.0001), loss = 'categorical_crossentropy',\n",
    "                   metrics = ['accuracy'])"
   ]
  },
  {
   "cell_type": "code",
   "execution_count": 12,
   "metadata": {},
   "outputs": [],
   "source": [
    "from keras.callbacks import ModelCheckpoint, EarlyStopping, ReduceLROnPlateau\n",
    "checkpoint = ModelCheckpoint(filepath = r'model\\equation_solver.h5', monitor = 'val_loss', verbose = 1, mode = 'min',\n",
    "                            save_best_only = True)\n",
    "\n",
    "earlystop = EarlyStopping(monitor = 'val_loss', mode = 'min', verbose = 1, patience = 8, min_delta = 0.0001)\n",
    "\n",
    "reduce_lr = ReduceLROnPlateau(monitor = 'val_loss', factor = 0.2, patience = 3, verbose = 1, mode = 'min',\n",
    "                              min_delta = 0.0001)\n",
    "\n",
    "callback = [earlystop, checkpoint, reduce_lr]"
   ]
  },
  {
   "cell_type": "code",
   "execution_count": 13,
   "metadata": {},
   "outputs": [
    {
     "name": "stdout",
     "output_type": "stream",
     "text": [
      "Epoch 1/30\n",
      "9399/9399 [==============================] - 3349s 356ms/step - loss: 2.1395 - accuracy: 0.4633 - val_loss: 1.2941 - val_accuracy: 0.6540\n",
      "\n",
      "Epoch 00001: val_loss improved from inf to 1.29411, saving model to model\\equation_solver.h5\n",
      "Epoch 2/30\n",
      "9399/9399 [==============================] - 1424s 152ms/step - loss: 1.1129 - accuracy: 0.6867 - val_loss: 0.8752 - val_accuracy: 0.7582\n",
      "\n",
      "Epoch 00002: val_loss improved from 1.29411 to 0.87519, saving model to model\\equation_solver.h5\n",
      "Epoch 3/30\n",
      "9399/9399 [==============================] - 1578s 168ms/step - loss: 0.9183 - accuracy: 0.7359 - val_loss: 1.0293 - val_accuracy: 0.7075\n",
      "\n",
      "Epoch 00003: val_loss did not improve from 0.87519\n",
      "Epoch 4/30\n",
      "9399/9399 [==============================] - 1545s 164ms/step - loss: 0.8286 - accuracy: 0.7606 - val_loss: 0.9100 - val_accuracy: 0.7449\n",
      "\n",
      "Epoch 00004: val_loss did not improve from 0.87519\n",
      "Epoch 5/30\n",
      "9399/9399 [==============================] - 1489s 158ms/step - loss: 0.7689 - accuracy: 0.7776 - val_loss: 0.7844 - val_accuracy: 0.7715\n",
      "\n",
      "Epoch 00005: val_loss improved from 0.87519 to 0.78436, saving model to model\\equation_solver.h5\n",
      "Epoch 6/30\n",
      "9399/9399 [==============================] - 1409s 150ms/step - loss: 0.7233 - accuracy: 0.7895 - val_loss: 0.9321 - val_accuracy: 0.7406\n",
      "\n",
      "Epoch 00006: val_loss did not improve from 0.78436\n",
      "Epoch 7/30\n",
      "9399/9399 [==============================] - 1427s 152ms/step - loss: 0.6918 - accuracy: 0.7971 - val_loss: 0.6429 - val_accuracy: 0.8106\n",
      "\n",
      "Epoch 00007: val_loss improved from 0.78436 to 0.64290, saving model to model\\equation_solver.h5\n",
      "Epoch 8/30\n",
      "9399/9399 [==============================] - 1585s 169ms/step - loss: 0.6611 - accuracy: 0.8064 - val_loss: 0.5769 - val_accuracy: 0.8320\n",
      "\n",
      "Epoch 00008: val_loss improved from 0.64290 to 0.57688, saving model to model\\equation_solver.h5\n",
      "Epoch 9/30\n",
      "9399/9399 [==============================] - 1453s 155ms/step - loss: 0.6476 - accuracy: 0.8107 - val_loss: 1.5046 - val_accuracy: 0.5703\n",
      "\n",
      "Epoch 00009: val_loss did not improve from 0.57688\n",
      "Epoch 10/30\n",
      "9399/9399 [==============================] - 1506s 160ms/step - loss: 0.6237 - accuracy: 0.8164 - val_loss: 2.1130 - val_accuracy: 0.6041\n",
      "\n",
      "Epoch 00010: val_loss did not improve from 0.57688\n",
      "Epoch 11/30\n",
      "9399/9399 [==============================] - 1470s 156ms/step - loss: 0.6092 - accuracy: 0.8205 - val_loss: 1.8003 - val_accuracy: 0.5387\n",
      "\n",
      "Epoch 00011: val_loss did not improve from 0.57688\n",
      "\n",
      "Epoch 00011: ReduceLROnPlateau reducing learning rate to 1.9999999494757503e-05.\n",
      "Epoch 12/30\n",
      "9399/9399 [==============================] - 1479s 157ms/step - loss: 0.5673 - accuracy: 0.8314 - val_loss: 0.4482 - val_accuracy: 0.8631\n",
      "\n",
      "Epoch 00012: val_loss improved from 0.57688 to 0.44823, saving model to model\\equation_solver.h5\n",
      "Epoch 13/30\n",
      "9399/9399 [==============================] - 1400s 149ms/step - loss: 0.5471 - accuracy: 0.8376 - val_loss: 0.4777 - val_accuracy: 0.8579\n",
      "\n",
      "Epoch 00013: val_loss did not improve from 0.44823\n",
      "Epoch 14/30\n",
      "9399/9399 [==============================] - 1425s 152ms/step - loss: 0.5405 - accuracy: 0.8382 - val_loss: 0.4463 - val_accuracy: 0.8656\n",
      "\n",
      "Epoch 00014: val_loss improved from 0.44823 to 0.44628, saving model to model\\equation_solver.h5\n",
      "Epoch 15/30\n",
      "9399/9399 [==============================] - 1581s 168ms/step - loss: 0.5365 - accuracy: 0.8409 - val_loss: 0.4343 - val_accuracy: 0.8675\n",
      "\n",
      "Epoch 00015: val_loss improved from 0.44628 to 0.43427, saving model to model\\equation_solver.h5\n",
      "Epoch 16/30\n",
      "9399/9399 [==============================] - 1412s 150ms/step - loss: 0.5304 - accuracy: 0.8424 - val_loss: 0.6494 - val_accuracy: 0.8216\n",
      "\n",
      "Epoch 00016: val_loss did not improve from 0.43427\n",
      "Epoch 17/30\n",
      "9399/9399 [==============================] - 1418s 151ms/step - loss: 0.5278 - accuracy: 0.8414 - val_loss: 0.4297 - val_accuracy: 0.8689\n",
      "\n",
      "Epoch 00017: val_loss improved from 0.43427 to 0.42973, saving model to model\\equation_solver.h5\n",
      "Epoch 18/30\n",
      "9399/9399 [==============================] - 1417s 151ms/step - loss: 0.5258 - accuracy: 0.8428 - val_loss: 0.4993 - val_accuracy: 0.8464\n",
      "\n",
      "Epoch 00018: val_loss did not improve from 0.42973\n",
      "Epoch 19/30\n",
      "9399/9399 [==============================] - 1413s 150ms/step - loss: 0.5182 - accuracy: 0.8446 - val_loss: 1.3530 - val_accuracy: 0.6393\n",
      "\n",
      "Epoch 00019: val_loss did not improve from 0.42973\n",
      "Epoch 20/30\n",
      "9399/9399 [==============================] - 1415s 151ms/step - loss: 0.5219 - accuracy: 0.8434 - val_loss: 2.8175 - val_accuracy: 0.5021\n",
      "\n",
      "Epoch 00020: val_loss did not improve from 0.42973\n",
      "\n",
      "Epoch 00020: ReduceLROnPlateau reducing learning rate to 3.999999898951501e-06.\n",
      "Epoch 21/30\n",
      "9399/9399 [==============================] - 1418s 151ms/step - loss: 0.5101 - accuracy: 0.8469 - val_loss: 0.4880 - val_accuracy: 0.8494\n",
      "\n",
      "Epoch 00021: val_loss did not improve from 0.42973\n",
      "Epoch 22/30\n",
      "9399/9399 [==============================] - 1528s 163ms/step - loss: 0.5066 - accuracy: 0.8489 - val_loss: 0.4242 - val_accuracy: 0.8698\n",
      "\n",
      "Epoch 00022: val_loss improved from 0.42973 to 0.42422, saving model to model\\equation_solver.h5\n",
      "Epoch 23/30\n",
      "9399/9399 [==============================] - 1788s 190ms/step - loss: 0.5054 - accuracy: 0.8486 - val_loss: 0.4238 - val_accuracy: 0.8727\n",
      "\n",
      "Epoch 00023: val_loss improved from 0.42422 to 0.42384, saving model to model\\equation_solver.h5\n",
      "Epoch 24/30\n",
      "9399/9399 [==============================] - 2255s 240ms/step - loss: 0.5041 - accuracy: 0.8484 - val_loss: 0.4124 - val_accuracy: 0.8728\n",
      "\n",
      "Epoch 00024: val_loss improved from 0.42384 to 0.41242, saving model to model\\equation_solver.h5\n",
      "Epoch 25/30\n",
      "9399/9399 [==============================] - 1987s 211ms/step - loss: 0.5030 - accuracy: 0.8480 - val_loss: 0.4012 - val_accuracy: 0.8774\n",
      "\n",
      "Epoch 00025: val_loss improved from 0.41242 to 0.40122, saving model to model\\equation_solver.h5\n",
      "Epoch 26/30\n",
      "9399/9399 [==============================] - 1831s 195ms/step - loss: 0.5029 - accuracy: 0.8494 - val_loss: 0.4066 - val_accuracy: 0.8757\n",
      "\n",
      "Epoch 00026: val_loss did not improve from 0.40122\n",
      "Epoch 27/30\n",
      "9399/9399 [==============================] - 1799s 191ms/step - loss: 0.5006 - accuracy: 0.8500 - val_loss: 0.4071 - val_accuracy: 0.8739\n",
      "\n",
      "Epoch 00027: val_loss did not improve from 0.40122\n",
      "Epoch 28/30\n",
      "9399/9399 [==============================] - 1800s 191ms/step - loss: 0.4985 - accuracy: 0.8507 - val_loss: 0.4182 - val_accuracy: 0.8722\n",
      "\n",
      "Epoch 00028: val_loss did not improve from 0.40122\n",
      "\n",
      "Epoch 00028: ReduceLROnPlateau reducing learning rate to 7.999999979801942e-07.\n",
      "Epoch 29/30\n",
      "9399/9399 [==============================] - 1706s 182ms/step - loss: 0.4953 - accuracy: 0.8508 - val_loss: 0.4023 - val_accuracy: 0.8754\n",
      "\n",
      "Epoch 00029: val_loss did not improve from 0.40122\n",
      "Epoch 30/30\n",
      "9399/9399 [==============================] - 1747s 186ms/step - loss: 0.4973 - accuracy: 0.8506 - val_loss: 0.4014 - val_accuracy: 0.8765\n",
      "\n",
      "Epoch 00030: val_loss did not improve from 0.40122\n"
     ]
    }
   ],
   "source": [
    "cnn_model = model.fit(x = training_set, validation_data = validation_set, epochs = 30, batch_size = 64,\n",
    "                      callbacks = callback)"
   ]
  },
  {
   "cell_type": "code",
   "execution_count": 14,
   "metadata": {},
   "outputs": [
    {
     "data": {
      "image/png": "[encoded data removed]",
      "text/plain": [
       "<Figure size 1080x1080 with 2 Axes>"
      ]
     },
     "metadata": {
      "needs_background": "light"
     },
     "output_type": "display_data"
    }
   ],
   "source": [
    "acc = cnn_model.history['accuracy']\n",
    "val_acc = cnn_model.history['val_accuracy']\n",
    "loss = cnn_model.history['loss']\n",
    "val_loss = cnn_model.history['val_loss']\n",
    "\n",
    "epochs_range = range(30)\n",
    "\n",
    "plt.figure(figsize=(15, 15))\n",
    "plt.subplot(2, 2, 1)\n",
    "plt.plot(epochs_range, acc, label='Training Accuracy')\n",
    "plt.plot(epochs_range, val_acc, label='Validation Accuracy')\n",
    "plt.legend(loc='lower right')\n",
    "plt.title('Training and Validation Accuracy')\n",
    "\n",
    "plt.subplot(2, 2, 2)\n",
    "plt.plot(epochs_range, loss, label='Training Loss')\n",
    "plt.plot(epochs_range, val_loss, label='Validation Loss')\n",
    "plt.legend(loc='upper right')\n",
    "plt.title('Training and Validation Loss')\n",
    "plt.show()"
   ]
  },
  {
   "cell_type": "code",
   "execution_count": 18,
   "metadata": {},
   "outputs": [
    {
     "name": "stdout",
     "output_type": "stream",
     "text": [
      "2352/2352 [==============================] - 395s 168ms/step - loss: 0.3355 - accuracy: 0.8960\n",
      "accuracy in test_set: 89.60 %\n"
     ]
    }
   ],
   "source": [
    "_, accuracy = model.evaluate(test_set)\n",
    "print('accuracy in test_set: %.2f' %(accuracy*100),'%')"
   ]
  },
  {
   "cell_type": "code",
   "execution_count": null,
   "metadata": {},
   "outputs": [],
   "source": []
  }
 ],
 "metadata": {
  "kernelspec": {
   "display_name": "Python 3",
   "language": "python",
   "name": "python3"
  },
  "language_info": {
   "codemirror_mode": {
    "name": "ipython",
    "version": 3
   },
   "file_extension": ".py",
   "mimetype": "text/x-python",
   "name": "python",
   "nbconvert_exporter": "python",
   "pygments_lexer": "ipython3",
   "version": "3.8.5"
  }
 },
 "nbformat": 4,
 "nbformat_minor": 4
}
